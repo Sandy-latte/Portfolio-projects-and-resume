{
 "cells": [
  {
   "cell_type": "markdown",
   "metadata": {
    "application/vnd.databricks.v1+cell": {
     "cellMetadata": {
      "byteLimit": 2048000,
      "rowLimit": 10000
     },
     "inputWidgets": {},
     "nuid": "12bc9757-1c20-46fe-96a7-1d2f9a0a07d2",
     "showTitle": false,
     "title": ""
    }
   },
   "source": [
    "## Setup"
   ]
  },
  {
   "cell_type": "code",
   "execution_count": 0,
   "metadata": {
    "application/vnd.databricks.v1+cell": {
     "cellMetadata": {
      "byteLimit": 2048000,
      "rowLimit": 10000
     },
     "inputWidgets": {},
     "nuid": "d21a4346-5025-45fc-a081-4da90d40a3b7",
     "showTitle": false,
     "title": ""
    }
   },
   "outputs": [],
   "source": [
    "#read the json file into a df\n",
    "path = '/FileStore/tables/large_json.gz'\n",
    "publication = spark.read.option('header', True).json(path)\n",
    "\n",
    "#read the csv file into a df (for Q5 & Q6 join task)\n",
    "csvpath = '/FileStore/tables/journal_information.csv'\n",
    "journal = spark.read.option('header', True).csv(csvpath)\n",
    "\n",
    "#import the necessary functions \n",
    "from pyspark.sql import functions as F \n",
    "from pyspark.sql.functions import mean\n",
    "from pyspark.sql.functions import size\n",
    "from pyspark.sql.functions import column as col \n",
    "from pyspark.sql.functions import expr\n",
    "from pyspark.sql.types import *\n",
    "\n",
    "#import the necessary packages for later visualisation \n",
    "import pandas as pd\n",
    "import seaborn as sns\n",
    "import matplotlib.pyplot as plt"
   ]
  },
  {
   "cell_type": "markdown",
   "metadata": {
    "application/vnd.databricks.v1+cell": {
     "cellMetadata": {
      "byteLimit": 2048000,
      "rowLimit": 10000
     },
     "inputWidgets": {},
     "nuid": "becd3775-d977-455b-961e-8c4870d7f268",
     "showTitle": false,
     "title": ""
    }
   },
   "source": [
    "## PySpark DataFrame "
   ]
  },
  {
   "cell_type": "markdown",
   "metadata": {
    "application/vnd.databricks.v1+cell": {
     "cellMetadata": {
      "byteLimit": 2048000,
      "rowLimit": 10000
     },
     "inputWidgets": {},
     "nuid": "af540a54-d634-41e7-8b74-6aef7f5ca23c",
     "showTitle": false,
     "title": ""
    }
   },
   "source": [
    "#### Data Preparation"
   ]
  },
  {
   "cell_type": "code",
   "execution_count": 0,
   "metadata": {
    "application/vnd.databricks.v1+cell": {
     "cellMetadata": {
      "byteLimit": 2048000,
      "rowLimit": 10000
     },
     "inputWidgets": {},
     "nuid": "a1b8c400-3606-450b-afef-8f94f78b352f",
     "showTitle": false,
     "title": ""
    }
   },
   "outputs": [],
   "source": [
    "# filter out the unwanted values for dataframe(s)\n",
    "condition = (journal[\"Journal Name\"].isNotNull()) & (journal[\"Journal Name\"] != \"\")\n",
    "journal_processed_0 = journal.filter(condition)\n",
    "\n",
    "#change datatypes for later convenience \n",
    "journal_processed_1= journal_processed_0.withColumn('IF', F.col(\"IF\").cast(FloatType())\n",
    ")\n",
    "\n",
    "#change column name for later conveneince \n",
    "journal_processed = journal_processed_1.withColumnRenamed('Journal Name', 'Journal_Name')\n"
   ]
  },
  {
   "cell_type": "markdown",
   "metadata": {
    "application/vnd.databricks.v1+cell": {
     "cellMetadata": {
      "byteLimit": 2048000,
      "rowLimit": 10000
     },
     "inputWidgets": {},
     "nuid": "36c7187a-904b-4287-b1e4-7707b0cb5dc4",
     "showTitle": false,
     "title": ""
    }
   },
   "source": [
    "#### Q1: Programmatically confirm that all papers have unique IDs and output the number of papers in the file."
   ]
  },
  {
   "cell_type": "code",
   "execution_count": 0,
   "metadata": {
    "application/vnd.databricks.v1+cell": {
     "cellMetadata": {
      "byteLimit": 2048000,
      "rowLimit": 10000
     },
     "inputWidgets": {},
     "nuid": "81185230-0438-47b5-897f-0a5b307ebc89",
     "showTitle": false,
     "title": ""
    }
   },
   "outputs": [],
   "source": [
    "def count_of_record(df):\n",
    "    number = df.select('corpusid').distinct().count()\n",
    "    return number"
   ]
  },
  {
   "cell_type": "code",
   "execution_count": 0,
   "metadata": {
    "application/vnd.databricks.v1+cell": {
     "cellMetadata": {
      "byteLimit": 2048000,
      "rowLimit": 10000
     },
     "inputWidgets": {},
     "nuid": "6e7eaa22-5d2b-4514-9c67-5bdb79b587e2",
     "showTitle": false,
     "title": ""
    }
   },
   "outputs": [
    {
     "output_type": "stream",
     "name": "stdout",
     "output_type": "stream",
     "text": [
      "Out[260]: 150000"
     ]
    }
   ],
   "source": [
    "count_of_record(publication)"
   ]
  },
  {
   "cell_type": "markdown",
   "metadata": {
    "application/vnd.databricks.v1+cell": {
     "cellMetadata": {
      "byteLimit": 2048000,
      "rowLimit": 10000
     },
     "inputWidgets": {},
     "nuid": "5b55a651-217f-442f-84a2-5edd6f042387",
     "showTitle": false,
     "title": ""
    }
   },
   "source": [
    "#### Q2: Avgerage number of authors per paper?"
   ]
  },
  {
   "cell_type": "code",
   "execution_count": 0,
   "metadata": {
    "application/vnd.databricks.v1+cell": {
     "cellMetadata": {
      "byteLimit": 2048000,
      "rowLimit": 10000
     },
     "inputWidgets": {},
     "nuid": "7da3d1ba-0196-47af-87ec-6d0e968c66c2",
     "showTitle": false,
     "title": ""
    }
   },
   "outputs": [],
   "source": [
    "def avg_authors_per_paper (df):\n",
    "    avg_author = publication.select(F.mean(F.size(publication.authors)))\n",
    "    return avg_author"
   ]
  },
  {
   "cell_type": "code",
   "execution_count": 0,
   "metadata": {
    "application/vnd.databricks.v1+cell": {
     "cellMetadata": {
      "byteLimit": 2048000,
      "rowLimit": 10000
     },
     "inputWidgets": {},
     "nuid": "23643e1e-b5ae-4dcf-8a03-03016d11545a",
     "showTitle": false,
     "title": ""
    }
   },
   "outputs": [
    {
     "output_type": "stream",
     "name": "stdout",
     "output_type": "stream",
     "text": [
      "+------------------+\n|avg(size(authors))|\n+------------------+\n|           2.81628|\n+------------------+\n\n"
     ]
    }
   ],
   "source": [
    "avg_authors_per_paper(publication).show()"
   ]
  },
  {
   "cell_type": "markdown",
   "metadata": {
    "application/vnd.databricks.v1+cell": {
     "cellMetadata": {
      "byteLimit": 2048000,
      "rowLimit": 10000
     },
     "inputWidgets": {},
     "nuid": "05198139-8ea5-4824-9937-3195914a7b75",
     "showTitle": false,
     "title": ""
    }
   },
   "source": [
    "#### Q2 Further exploration (1): How has the avergage author size per year changed over time?"
   ]
  },
  {
   "cell_type": "code",
   "execution_count": 0,
   "metadata": {
    "application/vnd.databricks.v1+cell": {
     "cellMetadata": {
      "byteLimit": 2048000,
      "rowLimit": 10000
     },
     "inputWidgets": {},
     "nuid": "961ab082-7779-40eb-b55a-35eeaebc9ea6",
     "showTitle": false,
     "title": ""
    }
   },
   "outputs": [
    {
     "output_type": "display_data",
     "data": {
      "text/html": [
       "<style scoped>\n",
       "  .table-result-container {\n",
       "    max-height: 300px;\n",
       "    overflow: auto;\n",
       "  }\n",
       "  table, th, td {\n",
       "    border: 1px solid black;\n",
       "    border-collapse: collapse;\n",
       "  }\n",
       "  th, td {\n",
       "    padding: 5px;\n",
       "  }\n",
       "  th {\n",
       "    text-align: left;\n",
       "  }\n",
       "</style><div class='table-result-container'><table class='table-result'><thead style='background-color: white'><tr><th>year</th><th>avg(size(authors))</th></tr></thead><tbody><tr><td>2024</td><td>4.798627002288329</td></tr><tr><td>2023</td><td>4.522255943348508</td></tr><tr><td>2022</td><td>4.491857446306349</td></tr><tr><td>2021</td><td>3.7147773279352228</td></tr><tr><td>2020</td><td>3.4062132661628883</td></tr><tr><td>2019</td><td>3.280579216354344</td></tr><tr><td>2018</td><td>3.090767634854772</td></tr><tr><td>2017</td><td>3.333220396408606</td></tr><tr><td>2016</td><td>3.255668747946106</td></tr><tr><td>2015</td><td>2.922365378262306</td></tr><tr><td>2014</td><td>2.8534348503201246</td></tr><tr><td>2013</td><td>2.9586748038360944</td></tr><tr><td>2012</td><td>2.819164265129683</td></tr><tr><td>2011</td><td>2.7843701996927805</td></tr><tr><td>2010</td><td>2.67176692517292</td></tr><tr><td>2009</td><td>2.6058312931226353</td></tr><tr><td>2008</td><td>2.76678445229682</td></tr><tr><td>2007</td><td>2.693764200959354</td></tr><tr><td>2006</td><td>2.7053693104388117</td></tr><tr><td>2005</td><td>2.591595146493045</td></tr></tbody></table></div>"
      ]
     },
     "metadata": {
      "application/vnd.databricks.v1+output": {
       "addedWidgets": {},
       "aggData": [],
       "aggError": "",
       "aggOverflow": false,
       "aggSchema": [],
       "aggSeriesLimitReached": false,
       "aggType": "",
       "arguments": {},
       "columnCustomDisplayInfos": {},
       "data": [
        [
         2024,
         4.798627002288329
        ],
        [
         2023,
         4.522255943348508
        ],
        [
         2022,
         4.491857446306349
        ],
        [
         2021,
         3.7147773279352228
        ],
        [
         2020,
         3.4062132661628883
        ],
        [
         2019,
         3.280579216354344
        ],
        [
         2018,
         3.090767634854772
        ],
        [
         2017,
         3.333220396408606
        ],
        [
         2016,
         3.255668747946106
        ],
        [
         2015,
         2.922365378262306
        ],
        [
         2014,
         2.8534348503201246
        ],
        [
         2013,
         2.9586748038360944
        ],
        [
         2012,
         2.819164265129683
        ],
        [
         2011,
         2.7843701996927805
        ],
        [
         2010,
         2.67176692517292
        ],
        [
         2009,
         2.6058312931226353
        ],
        [
         2008,
         2.76678445229682
        ],
        [
         2007,
         2.693764200959354
        ],
        [
         2006,
         2.7053693104388117
        ],
        [
         2005,
         2.591595146493045
        ]
       ],
       "datasetInfos": [],
       "dbfsResultPath": null,
       "isJsonSchema": true,
       "metadata": {},
       "overflow": false,
       "plotOptions": {
        "customPlotOptions": {},
        "displayType": "table",
        "pivotAggregation": null,
        "pivotColumns": null,
        "xColumns": null,
        "yColumns": null
       },
       "removedWidgets": [],
       "schema": [
        {
         "metadata": "{}",
         "name": "year",
         "type": "\"long\""
        },
        {
         "metadata": "{}",
         "name": "avg(size(authors))",
         "type": "\"double\""
        }
       ],
       "type": "table"
      }
     },
     "output_type": "display_data"
    }
   ],
   "source": [
    "FA_Q2_1 = (\n",
    "    publication.select(\"year\", F.size(\"authors\"))\n",
    "    .groupBy(\"year\")\n",
    "    .agg(F.mean(\"size(authors)\"))\n",
    "    .orderBy(\"year\", ascending=False)\n",
    ").limit(20).display()"
   ]
  },
  {
   "cell_type": "markdown",
   "metadata": {
    "application/vnd.databricks.v1+cell": {
     "cellMetadata": {
      "byteLimit": 2048000,
      "rowLimit": 10000
     },
     "inputWidgets": {},
     "nuid": "e94a9a4d-d8cd-4164-b2e0-8adeed704bc0",
     "showTitle": false,
     "title": ""
    }
   },
   "source": [
    "#### Q2 Further exploration (2): How have the collaboration patterns changed since 2010? "
   ]
  },
  {
   "cell_type": "code",
   "execution_count": 0,
   "metadata": {
    "application/vnd.databricks.v1+cell": {
     "cellMetadata": {
      "byteLimit": 2048000,
      "rowLimit": 10000
     },
     "inputWidgets": {},
     "nuid": "17ebeb92-d859-4b90-9b40-6a2650c532dd",
     "showTitle": false,
     "title": ""
    }
   },
   "outputs": [
    {
     "output_type": "display_data",
     "data": {
      "text/html": [
       "<style scoped>\n",
       "  .table-result-container {\n",
       "    max-height: 300px;\n",
       "    overflow: auto;\n",
       "  }\n",
       "  table, th, td {\n",
       "    border: 1px solid black;\n",
       "    border-collapse: collapse;\n",
       "  }\n",
       "  th, td {\n",
       "    padding: 5px;\n",
       "  }\n",
       "  th {\n",
       "    text-align: left;\n",
       "  }\n",
       "</style><div class='table-result-container'><table class='table-result'><thead style='background-color: white'><tr><th>author_size</th><th>count</th></tr></thead><tbody><tr><td>1</td><td>25145</td></tr><tr><td>2</td><td>11844</td></tr><tr><td>3</td><td>9261</td></tr><tr><td>4</td><td>6879</td></tr><tr><td>5</td><td>4893</td></tr><tr><td>6</td><td>3550</td></tr><tr><td>7</td><td>2269</td></tr><tr><td>8</td><td>1593</td></tr><tr><td>9</td><td>1051</td></tr><tr><td>10</td><td>778</td></tr><tr><td>11</td><td>511</td></tr><tr><td>12</td><td>385</td></tr><tr><td>13</td><td>225</td></tr><tr><td>14</td><td>177</td></tr><tr><td>15</td><td>149</td></tr><tr><td>16</td><td>113</td></tr><tr><td>17</td><td>80</td></tr><tr><td>18</td><td>66</td></tr><tr><td>19</td><td>44</td></tr><tr><td>20</td><td>42</td></tr></tbody></table></div>"
      ]
     },
     "metadata": {
      "application/vnd.databricks.v1+output": {
       "addedWidgets": {},
       "aggData": [],
       "aggError": "",
       "aggOverflow": false,
       "aggSchema": [],
       "aggSeriesLimitReached": false,
       "aggType": "",
       "arguments": {},
       "columnCustomDisplayInfos": {},
       "data": [
        [
         1,
         25145
        ],
        [
         2,
         11844
        ],
        [
         3,
         9261
        ],
        [
         4,
         6879
        ],
        [
         5,
         4893
        ],
        [
         6,
         3550
        ],
        [
         7,
         2269
        ],
        [
         8,
         1593
        ],
        [
         9,
         1051
        ],
        [
         10,
         778
        ],
        [
         11,
         511
        ],
        [
         12,
         385
        ],
        [
         13,
         225
        ],
        [
         14,
         177
        ],
        [
         15,
         149
        ],
        [
         16,
         113
        ],
        [
         17,
         80
        ],
        [
         18,
         66
        ],
        [
         19,
         44
        ],
        [
         20,
         42
        ]
       ],
       "datasetInfos": [],
       "dbfsResultPath": null,
       "isJsonSchema": true,
       "metadata": {},
       "overflow": false,
       "plotOptions": {
        "customPlotOptions": {},
        "displayType": "table",
        "pivotAggregation": null,
        "pivotColumns": null,
        "xColumns": null,
        "yColumns": null
       },
       "removedWidgets": [],
       "schema": [
        {
         "metadata": "{}",
         "name": "author_size",
         "type": "\"integer\""
        },
        {
         "metadata": "{}",
         "name": "count",
         "type": "\"long\""
        }
       ],
       "type": "table"
      }
     },
     "output_type": "display_data"
    },
    {
     "output_type": "display_data",
     "data": {
      "text/plain": [
       "Databricks visualization. Run in Databricks to view."
      ]
     },
     "metadata": {
      "application/vnd.databricks.v1.subcommand+json": {
       "baseErrorDetails": null,
       "bindings": {},
       "collapsed": false,
       "command": "%python\n__backend_agg_display_orig = display\n__backend_agg_dfs = []\ndef __backend_agg_display_new(df):\n    __backend_agg_df_modules = [\"pandas.core.frame\", \"databricks.koalas.frame\", \"pyspark.sql.dataframe\", \"pyspark.pandas.frame\", \"pyspark.sql.connect.dataframe\"]\n    if (type(df).__module__ in __backend_agg_df_modules and type(df).__name__ == 'DataFrame') or isinstance(df, list):\n        __backend_agg_dfs.append(df)\n\ndisplay = __backend_agg_display_new\n\ndef __backend_agg_user_code_fn():\n    import base64\n    exec(base64.standard_b64decode(\"RkFfUTJfMiA9ICgKICAgIHB1YmxpY2F0aW9uLnNlbGVjdCgieWVhciIsIEYuc2l6ZSgiYXV0aG9ycyIpLmFsaWFzKCdhdXRob3Jfc2l6ZScpKQogICAgLmZpbHRlcihGLmNvbCgneWVhcicpPjIwMTApLmZpbHRlcihGLmNvbCgnYXV0aG9yX3NpemUnKSA+IDApCiAgICAuZ3JvdXBCeSgiYXV0aG9yX3NpemUiKS5jb3VudCgpCiAgICAub3JkZXJCeSgnYXV0aG9yX3NpemUnKQogICAgKS5saW1pdCgyMCkuZGlzcGxheSgpCg==\").decode())\n\ntry:\n    # run user code\n    __backend_agg_user_code_fn()\n\n    #reset display function\n    display = __backend_agg_display_orig\n\n    if len(__backend_agg_dfs) > 0:\n        # create a temp view\n        if type(__backend_agg_dfs[0]).__module__ == \"databricks.koalas.frame\":\n            # koalas dataframe\n            __backend_agg_dfs[0].to_spark().createOrReplaceTempView(\"DatabricksView3804159\")\n        elif type(__backend_agg_dfs[0]).__module__ == \"pandas.core.frame\" or isinstance(__backend_agg_dfs[0], list):\n            # pandas dataframe\n            spark.createDataFrame(__backend_agg_dfs[0]).createOrReplaceTempView(\"DatabricksView3804159\")\n        else:\n            __backend_agg_dfs[0].createOrReplaceTempView(\"DatabricksView3804159\")\n        #run backend agg\n        display(spark.sql(\"\"\"WITH q AS (select * from DatabricksView3804159) SELECT `author_size`,SUM(`count`) `column_a68037b69` FROM q GROUP BY `author_size`\"\"\"))\n    else:\n        displayHTML(\"dataframe no longer exists. If you're using dataframe.display(), use display(dataframe) instead.\")\n\n\nfinally:\n    spark.sql(\"drop view if exists DatabricksView3804159\")\n    display = __backend_agg_display_orig\n    del __backend_agg_display_new\n    del __backend_agg_display_orig\n    del __backend_agg_dfs\n    del __backend_agg_user_code_fn\n\n",
       "commandTitle": "Visualization 1",
       "commandType": "auto",
       "commandVersion": 0,
       "commentThread": [],
       "commentsVisible": false,
       "contentSha256Hex": null,
       "customPlotOptions": {
        "redashChart": [
         {
          "key": "type",
          "value": "CHART"
         },
         {
          "key": "options",
          "value": {
           "alignYAxesAtZero": true,
           "coefficient": 1,
           "columnConfigurationMap": {
            "x": {
             "column": "author_size",
             "id": "column_a68037b68"
            },
            "y": [
             {
              "column": "count",
              "id": "column_a68037b69",
              "transform": "SUM"
             }
            ]
           },
           "dateTimeFormat": "DD/MM/YYYY HH:mm",
           "direction": {
            "type": "counterclockwise"
           },
           "error_y": {
            "type": "data",
            "visible": true
           },
           "globalSeriesType": "column",
           "isAggregationOn": true,
           "legend": {
            "traceorder": "normal"
           },
           "missingValuesAsZero": true,
           "numberFormat": "0,0.[00000]",
           "percentFormat": "0[.]00%",
           "series": {
            "error_y": {
             "type": "data",
             "visible": true
            },
            "stacking": null
           },
           "seriesOptions": {
            "column_a68037b69": {
             "name": "count",
             "type": "column",
             "yAxis": 0
            }
           },
           "showDataLabels": false,
           "sizemode": "diameter",
           "sortX": true,
           "sortY": true,
           "swappedAxes": false,
           "textFormat": "",
           "useAggregationsUi": true,
           "valuesOptions": {},
           "version": 2,
           "xAxis": {
            "labels": {
             "enabled": true
            },
            "type": "-"
           },
           "yAxis": [
            {
             "type": "-"
            },
            {
             "opposite": true,
             "type": "-"
            }
           ]
          }
         }
        ]
       },
       "datasetPreviewNameToCmdIdMap": {},
       "diffDeletes": [],
       "diffInserts": [],
       "displayType": "redashChart",
       "error": null,
       "errorDetails": null,
       "errorSummary": null,
       "errorTraceType": null,
       "finishTime": 0,
       "globalVars": {},
       "guid": "",
       "height": "auto",
       "hideCommandCode": false,
       "hideCommandResult": false,
       "iPythonMetadata": null,
       "inputWidgets": {},
       "isLockedInExamMode": false,
       "latestUser": "a user",
       "latestUserId": null,
       "listResultMetadata": null,
       "metadata": {
        "byteLimit": 2048000,
        "rowLimit": 10000
       },
       "nuid": "c80063df-42b3-4f9a-814b-05f7ecea2259",
       "origId": 0,
       "parentHierarchy": [],
       "pivotAggregation": null,
       "pivotColumns": null,
       "position": 2.01171875,
       "resultDbfsErrorMessage": null,
       "resultDbfsStatus": "INLINED_IN_TREE",
       "results": null,
       "showCommandTitle": false,
       "startTime": 0,
       "state": "finished",
       "streamStates": {},
       "subcommandOptions": {
        "queryPlan": {
         "groups": [
          {
           "column": "author_size",
           "type": "column"
          }
         ],
         "selects": [
          {
           "column": "author_size",
           "type": "column"
          },
          {
           "alias": "column_a68037b69",
           "args": [
            {
             "column": "count",
             "type": "column"
            }
           ],
           "function": "SUM",
           "type": "function"
          }
         ]
        }
       },
       "submitTime": 0,
       "subtype": "tableResultSubCmd.visualization",
       "tableResultIndex": 0,
       "useConsistentColors": false,
       "version": "CommandV1",
       "width": "auto",
       "workflows": [],
       "xColumns": null,
       "yColumns": null
      }
     },
     "output_type": "display_data"
    }
   ],
   "source": [
    "FA_Q2_2 = (\n",
    "    publication.select(\"year\", F.size(\"authors\").alias('author_size'))\n",
    "    .filter(F.col('year')>2010).filter(F.col('author_size') > 0)\n",
    "    .groupBy(\"author_size\").count()\n",
    "    .orderBy('author_size')\n",
    "    ).limit(20).display()\n"
   ]
  },
  {
   "cell_type": "markdown",
   "metadata": {
    "application/vnd.databricks.v1+cell": {
     "cellMetadata": {
      "byteLimit": 2048000,
      "rowLimit": 10000
     },
     "inputWidgets": {},
     "nuid": "ca15333a-a9a8-4781-b7b1-72f95b9d8e96",
     "showTitle": false,
     "title": ""
    }
   },
   "source": [
    "#### Q3: How many different journals were the papers published in?"
   ]
  },
  {
   "cell_type": "code",
   "execution_count": 0,
   "metadata": {
    "application/vnd.databricks.v1+cell": {
     "cellMetadata": {
      "byteLimit": 2048000,
      "rowLimit": 10000
     },
     "inputWidgets": {},
     "nuid": "cbc865c7-9189-49b3-af78-d879040ed1a3",
     "showTitle": false,
     "title": ""
    }
   },
   "outputs": [],
   "source": [
    "def different_journals(df):\n",
    "    publication_3 = publication.select(F.col('journal.name').alias('Journal_Name')).filter(F.col('Journal_Name').isNotNull()).filter(F.col('Journal_Name')!='')\n",
    "    diff_journals = publication_3.distinct().count()\n",
    "    return diff_journals "
   ]
  },
  {
   "cell_type": "code",
   "execution_count": 0,
   "metadata": {
    "application/vnd.databricks.v1+cell": {
     "cellMetadata": {
      "byteLimit": 2048000,
      "rowLimit": 10000
     },
     "inputWidgets": {},
     "nuid": "c3fc4427-5969-42e8-8520-de8f4ac8ca75",
     "showTitle": false,
     "title": ""
    }
   },
   "outputs": [
    {
     "output_type": "stream",
     "name": "stdout",
     "output_type": "stream",
     "text": [
      "Out[266]: 33916"
     ]
    }
   ],
   "source": [
    "different_journals(publication)"
   ]
  },
  {
   "cell_type": "markdown",
   "metadata": {
    "application/vnd.databricks.v1+cell": {
     "cellMetadata": {
      "byteLimit": 2048000,
      "rowLimit": 10000
     },
     "inputWidgets": {},
     "nuid": "959803cb-d520-4d0b-8a20-5a1945a4097c",
     "showTitle": false,
     "title": ""
    }
   },
   "source": [
    "#### Q4: Find the 5 authors with the highest number of publications. Give their names along with the number of publications they contributed to."
   ]
  },
  {
   "cell_type": "code",
   "execution_count": 0,
   "metadata": {
    "application/vnd.databricks.v1+cell": {
     "cellMetadata": {
      "byteLimit": 2048000,
      "rowLimit": 10000
     },
     "inputWidgets": {},
     "nuid": "612229f8-29e6-409e-8b13-1d15612e408b",
     "showTitle": false,
     "title": ""
    }
   },
   "outputs": [],
   "source": [
    "def top_authors(df):\n",
    "    five_authors = (\n",
    "        publication.withColumn(\"author\", F.explode(publication.authors))\n",
    "        .groupBy(\"author\")\n",
    "        .count()\n",
    "        .orderBy(F.desc(\"count\"))\n",
    "        .limit(5)\n",
    "    )\n",
    "    return five_authors"
   ]
  },
  {
   "cell_type": "code",
   "execution_count": 0,
   "metadata": {
    "application/vnd.databricks.v1+cell": {
     "cellMetadata": {
      "byteLimit": 2048000,
      "rowLimit": 10000
     },
     "inputWidgets": {},
     "nuid": "28228833-cf38-4d95-9ac5-5bf226dd0e05",
     "showTitle": false,
     "title": ""
    }
   },
   "outputs": [
    {
     "output_type": "stream",
     "name": "stdout",
     "output_type": "stream",
     "text": [
      "+--------------------+-----+\n|              author|count|\n+--------------------+-----+\n|{2149377746, B. N...|   23|\n|{88842366, Z. Sor...|   16|\n|{90537224, S. Suk...|   16|\n|{49898687, M. Kumar}|   15|\n| {49611617, M. Jain}|   10|\n+--------------------+-----+\n\n"
     ]
    }
   ],
   "source": [
    "top_authors(publication).show()"
   ]
  },
  {
   "cell_type": "markdown",
   "metadata": {
    "application/vnd.databricks.v1+cell": {
     "cellMetadata": {
      "byteLimit": 2048000,
      "rowLimit": 10000
     },
     "inputWidgets": {},
     "nuid": "4895e09b-667e-4b08-9a1d-f1474f6fe4e9",
     "showTitle": false,
     "title": ""
    }
   },
   "source": [
    "#### Visualisation"
   ]
  },
  {
   "cell_type": "code",
   "execution_count": 0,
   "metadata": {
    "application/vnd.databricks.v1+cell": {
     "cellMetadata": {
      "byteLimit": 2048000,
      "rowLimit": 10000
     },
     "inputWidgets": {},
     "nuid": "6737007e-32c6-4a66-9edf-1d1ae423200e",
     "showTitle": false,
     "title": ""
    }
   },
   "outputs": [
    {
     "output_type": "display_data",
     "data": {
      "image/png": "[encoded data removed]"
     },
     "metadata": {
      "application/vnd.databricks.v1+output": {
       "addedWidgets": {},
       "arguments": {},
       "data": "data:image/png;base64,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\n",
       "datasetInfos": [],
       "metadata": {},
       "removedWidgets": [],
       "type": "image"
      }
     },
     "output_type": "display_data"
    }
   ],
   "source": [
    "five_authors = publication.withColumn(\"author\", F.explode(publication.authors))\\\n",
    "        .groupBy(\"author\")\\\n",
    "        .count()\\\n",
    "        .orderBy(F.desc(\"count\"))\\\n",
    "        \n",
    "\n",
    "#transform our top_authors df to pandas df for visualisation \n",
    "five_authors_pd = five_authors.toPandas()\n",
    "\n",
    "# Extract 'name' from the dictionary in 'author' column\n",
    "five_authors_pd['author_name'] = five_authors_pd['author'].apply(lambda x: x['name'])\n",
    "\n",
    "# Create a new DataFrame with only the 'name' information\n",
    "five_authors_df_1 = five_authors_pd[['author_name', 'count']]\n",
    "\n",
    "# Rename columns\n",
    "five_authors_df_1.columns = ['Author Name', 'Count of Publications']\n",
    "\n",
    "plt.figure(figsize=(10, 6))\n",
    "sns.barplot(x=\"Count of Publications\", y=\"Author Name\", data=five_authors_df_1.head(5)) \n",
    "plt.xlabel(\"Number of Publications\")\n",
    "plt.ylabel(\"Author\")\n",
    "plt.title(\"Top Authors by Number of Publications\")\n",
    "plt.show()"
   ]
  },
  {
   "cell_type": "markdown",
   "metadata": {
    "application/vnd.databricks.v1+cell": {
     "cellMetadata": {
      "byteLimit": 2048000,
      "rowLimit": 10000
     },
     "inputWidgets": {},
     "nuid": "e3bdb656-f36f-4e29-9c83-c89f1bafc653",
     "showTitle": false,
     "title": ""
    }
   },
   "source": [
    "#### Q5: Find the top 5 authors with the highest cummulative impact factor (notice that journals have different impact factors listed in the journal file in the IF column). Output both the author information and the cummulative impact factor."
   ]
  },
  {
   "cell_type": "code",
   "execution_count": 0,
   "metadata": {
    "application/vnd.databricks.v1+cell": {
     "cellMetadata": {
      "byteLimit": 2048000,
      "rowLimit": 10000
     },
     "inputWidgets": {},
     "nuid": "b9bc89e5-3cba-47a0-bd11-1dbb237c6c57",
     "showTitle": false,
     "title": ""
    }
   },
   "outputs": [],
   "source": [
    "def high_if(df,df2):\n",
    "    publication_5 = (\n",
    "        df.withColumn(\"author\", F.explode(F.col('authors')))\n",
    "        .withColumn(\"Journal_Name\", expr(\"journal.name\"))\n",
    "        .select(\"Journal_Name\", \"author\")\n",
    "    )\n",
    "\n",
    "    joined_df = publication_5.join(\n",
    "        df2,\n",
    "        publication_5[\"Journal_Name\"] == df2[\"Journal_Name\"],\n",
    "        \"inner\",\n",
    "    )\n",
    "\n",
    "    result_q5 = (\n",
    "        joined_df.select(\"author\", \"IF\")\n",
    "        .groupBy(\"author\")\n",
    "        .sum(\"IF\")\n",
    "        .orderBy(\"sum(IF)\", ascending=False)\n",
    "    )\n",
    "    return result_q5"
   ]
  },
  {
   "cell_type": "code",
   "execution_count": 0,
   "metadata": {
    "application/vnd.databricks.v1+cell": {
     "cellMetadata": {
      "byteLimit": 2048000,
      "rowLimit": 10000
     },
     "inputWidgets": {},
     "nuid": "d5d19d09-fb88-4a48-9432-22eafb0f4534",
     "showTitle": false,
     "title": ""
    }
   },
   "outputs": [
    {
     "output_type": "stream",
     "name": "stdout",
     "output_type": "stream",
     "text": [
      "+--------------------+-----------------+\n|              author|          sum(IF)|\n+--------------------+-----------------+\n|{2155504929, Ying...|93.83199691772461|\n|{144797099, M. Vi...|92.23799896240234|\n|{5152451, L. Andr...|92.23799896240234|\n| {49900836, H. Wood}| 90.4219970703125|\n|{7695437, A. M. R...| 87.8989987373352|\n+--------------------+-----------------+\nonly showing top 5 rows\n\n"
     ]
    }
   ],
   "source": [
    "high_if(publication,journal_processed).show(5)"
   ]
  },
  {
   "cell_type": "markdown",
   "metadata": {
    "application/vnd.databricks.v1+cell": {
     "cellMetadata": {
      "byteLimit": 2048000,
      "rowLimit": 10000
     },
     "inputWidgets": {},
     "nuid": "4592e4d9-a631-4e9a-8816-ade389b55c36",
     "showTitle": false,
     "title": ""
    }
   },
   "source": [
    "#### Visualisation"
   ]
  },
  {
   "cell_type": "code",
   "execution_count": 0,
   "metadata": {
    "application/vnd.databricks.v1+cell": {
     "cellMetadata": {
      "byteLimit": 2048000,
      "rowLimit": 10000
     },
     "inputWidgets": {},
     "nuid": "5e2da1f9-cf97-4d48-9aa0-f053f19f0f7b",
     "showTitle": false,
     "title": ""
    }
   },
   "outputs": [
    {
     "output_type": "display_data",
     "data": {
      "image/png": "[encoded data removed]"
     },
     "metadata": {
      "application/vnd.databricks.v1+output": {
       "addedWidgets": {},
       "arguments": {},
       "data": "data:image/png;base64,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\n",
       "datasetInfos": [],
       "metadata": {},
       "removedWidgets": [],
       "type": "image"
      }
     },
     "output_type": "display_data"
    }
   ],
   "source": [
    "publication_5 = publication.withColumn(\"author\", F.explode(F.col('authors')))\\\n",
    "        .withColumn(\"Journal_Name\", expr(\"journal.name\"))\\\n",
    "        .select(\"Journal_Name\", \"author\")\n",
    "\n",
    "joined_df = publication_5.join(\n",
    "        journal_processed,\n",
    "        publication_5[\"Journal_Name\"] == journal_processed[\"Journal_Name\"], \"inner\")\n",
    "\n",
    "result_q5 = joined_df.select(\"author\", \"IF\")\\\n",
    "        .groupBy(\"author\")\\\n",
    "        .sum(\"IF\")\\\n",
    "        .orderBy(\"sum(IF)\", ascending=False)\n",
    "\n",
    "\n",
    "result_q5_pd = result_q5.toPandas()\n",
    "\n",
    "result_q5_pd['author_name'] = result_q5_pd['author'].apply(lambda x: x['name'])\n",
    "result_q5_pd_1 = result_q5_pd[['author_name', 'sum(IF)']]\n",
    "result_q5_pd_1.columns = ['Author Name', 'sum(IF)']\n",
    "\n",
    "plt.figure(figsize=(10, 6))\n",
    "ax = sns.barplot(x='sum(IF)', y='Author Name', data=result_q5_pd_1.head(5), palette='viridis')  \n",
    "plt.xlabel('Total Impact Factor')\n",
    "plt.ylabel('Author')\n",
    "plt.title('Top Authors by Total Impact Factor')\n",
    "\n",
    "for index, value in enumerate(result_q5_pd_1.head(5)['sum(IF)']):\n",
    "    ax.text(value, index, str(round(value, 2)), color='black', ha=\"left\")\n",
    "\n",
    "plt.show()"
   ]
  },
  {
   "cell_type": "markdown",
   "metadata": {
    "application/vnd.databricks.v1+cell": {
     "cellMetadata": {
      "byteLimit": 2048000,
      "rowLimit": 10000
     },
     "inputWidgets": {},
     "nuid": "0603d169-929e-450c-a631-caee3d307d15",
     "showTitle": false,
     "title": ""
    }
   },
   "source": [
    "#### Q6: You’d like some additional information about publication trends. How many publications with impact factor > 1 were published in each of the years between 2010-2020? Ensure that your answer for each year is visible in your report."
   ]
  },
  {
   "cell_type": "code",
   "execution_count": 0,
   "metadata": {
    "application/vnd.databricks.v1+cell": {
     "cellMetadata": {
      "byteLimit": 2048000,
      "rowLimit": 10000
     },
     "inputWidgets": {},
     "nuid": "162fd8f8-51f6-498e-a079-c91d73c7ee60",
     "showTitle": false,
     "title": ""
    }
   },
   "outputs": [],
   "source": [
    "def if_20102020(df, df2):\n",
    "    publication_6 = df.select(\n",
    "        \"corpusid\", \"year\", F.col(\"journal.name\").alias(\"Journal_Name\")\n",
    "    )\n",
    "\n",
    "    journal_filtered_6 = df2.withColumnRenamed(\"Journal_Name\",\"Journal__Name\").select(\"Journal__Name\", \"IF\")\n",
    "\n",
    "    joined_df_6 = publication_6.join(\n",
    "        journal_filtered_6,\n",
    "        publication_6[\"Journal_Name\"] == journal_filtered_6[\"Journal__Name\"],\n",
    "        \"inner\",\n",
    "    ).select(\"year\", \"Journal_Name\", \"corpusid\")\n",
    "\n",
    "    result_q6 = (\n",
    "        joined_df_6.filter(F.col(\"IF\") > 1)\n",
    "        .filter((F.col(\"year\") >= 2010) & (F.col(\"year\") <= 2020))\n",
    "        .groupBy(\"year\")\n",
    "        .agg(F.count(\"corpusid\"))\n",
    "        .orderBy(\"year\")\n",
    "    ) \n",
    "    return result_q6"
   ]
  },
  {
   "cell_type": "code",
   "execution_count": 0,
   "metadata": {
    "application/vnd.databricks.v1+cell": {
     "cellMetadata": {
      "byteLimit": 2048000,
      "rowLimit": 10000
     },
     "inputWidgets": {},
     "nuid": "c41bf1cc-ae81-4b5a-83b8-ee37a5c2e9bc",
     "showTitle": false,
     "title": ""
    }
   },
   "outputs": [
    {
     "output_type": "stream",
     "name": "stdout",
     "output_type": "stream",
     "text": [
      "+----+---------------+\n|year|count(corpusid)|\n+----+---------------+\n|2010|            112|\n|2011|            139|\n|2012|            165|\n|2013|            178|\n|2014|            241|\n|2015|            243|\n|2016|            283|\n|2017|            329|\n|2018|            365|\n|2019|            396|\n|2020|            444|\n+----+---------------+\n\n"
     ]
    }
   ],
   "source": [
    "if_20102020(publication,journal_processed).show()"
   ]
  },
  {
   "cell_type": "markdown",
   "metadata": {
    "application/vnd.databricks.v1+cell": {
     "cellMetadata": {
      "byteLimit": 2048000,
      "rowLimit": 10000
     },
     "inputWidgets": {},
     "nuid": "a5dcc07f-af63-4578-92f3-4a2dbff2160a",
     "showTitle": false,
     "title": ""
    }
   },
   "source": [
    "#### Visualisation"
   ]
  },
  {
   "cell_type": "code",
   "execution_count": 0,
   "metadata": {
    "application/vnd.databricks.v1+cell": {
     "cellMetadata": {
      "byteLimit": 2048000,
      "rowLimit": 10000
     },
     "inputWidgets": {},
     "nuid": "1893cd22-b3be-43ac-b02e-643b0ab95177",
     "showTitle": false,
     "title": ""
    }
   },
   "outputs": [
    {
     "output_type": "display_data",
     "data": {
      "image/png": "[encoded data removed]"
     },
     "metadata": {
      "application/vnd.databricks.v1+output": {
       "addedWidgets": {},
       "arguments": {},
       "data": "data:image/png;base64,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\n",
       "datasetInfos": [],
       "metadata": {},
       "removedWidgets": [],
       "type": "image"
      }
     },
     "output_type": "display_data"
    }
   ],
   "source": [
    "publication_6 = publication.select(\n",
    "        \"corpusid\", \"year\", F.col(\"journal.name\").alias(\"Journal_Name\")\n",
    "    )\n",
    "\n",
    "journal_filtered_6 = journal_processed.withColumnRenamed(\"Journal_Name\",\"Journal__Name\").select(\"Journal__Name\", \"IF\")\n",
    "\n",
    "joined_df_6 = publication_6.join(\n",
    "        journal_filtered_6,\n",
    "        publication_6[\"Journal_Name\"] == journal_filtered_6[\"Journal__Name\"],\n",
    "        \"inner\").select(\"year\", \"Journal_Name\", \"corpusid\")\n",
    "\n",
    "result_q6 = joined_df_6.filter(F.col(\"IF\") > 1)\\\n",
    "        .filter((F.col(\"year\") >= 2010) & (F.col(\"year\") <= 2020))\\\n",
    "        .groupBy(\"year\")\\\n",
    "        .agg(F.count(\"corpusid\"))\\\n",
    "        .orderBy(\"year\")\n",
    "\n",
    "result_q6_pd = result_q6.toPandas()\n",
    "\n",
    "\n",
    "result_q6_pd_1 = result_q6_pd[['year', 'count(corpusid)']]\n",
    "result_q6_pd_1.columns = ['Year', 'count(corpusid)']\n",
    "\n",
    "plt.figure(figsize=(10, 6))\n",
    "ax = sns.barplot(x='Year', y='count(corpusid)', data=result_q6_pd_1.head(11), palette='CMRmap')  \n",
    "plt.xlabel('Year')\n",
    "plt.ylabel('Couunt of publications')\n",
    "plt.title('Publications with impact factor > 1 published between 2010-2020')\n",
    "\n",
    "for index, value in enumerate(result_q6_pd_1.head(11)['count(corpusid)']):\n",
    "    ax.text(index, value, str(value), color='black', ha=\"center\")\n",
    "\n",
    "plt.show()"
   ]
  },
  {
   "cell_type": "markdown",
   "metadata": {
    "application/vnd.databricks.v1+cell": {
     "cellMetadata": {
      "byteLimit": 2048000,
      "rowLimit": 10000
     },
     "inputWidgets": {},
     "nuid": "dec6b758-630e-46a3-9a50-03bef31267b3",
     "showTitle": false,
     "title": ""
    }
   },
   "source": [
    "## PySpark SQL"
   ]
  },
  {
   "cell_type": "markdown",
   "metadata": {
    "application/vnd.databricks.v1+cell": {
     "cellMetadata": {
      "byteLimit": 2048000,
      "rowLimit": 10000
     },
     "inputWidgets": {},
     "nuid": "ba928ff9-e52f-4d72-92c9-3e8c3a623ab9",
     "showTitle": false,
     "title": ""
    }
   },
   "source": [
    "#### Data preparation "
   ]
  },
  {
   "cell_type": "code",
   "execution_count": 0,
   "metadata": {
    "application/vnd.databricks.v1+cell": {
     "cellMetadata": {
      "byteLimit": 2048000,
      "rowLimit": 10000
     },
     "inputWidgets": {},
     "nuid": "5f04cb62-5d26-468f-a37a-8ac907e9b10a",
     "showTitle": false,
     "title": ""
    }
   },
   "outputs": [],
   "source": [
    "spark.read.option('header', True).json('/FileStore/tables/large_json.gz').createOrReplaceTempView('publication_temp_table')\n",
    "\n",
    "journal_processed.createOrReplaceTempView(\"journal_processed_temp_table\")"
   ]
  },
  {
   "cell_type": "markdown",
   "metadata": {
    "application/vnd.databricks.v1+cell": {
     "cellMetadata": {
      "byteLimit": 2048000,
      "rowLimit": 10000
     },
     "inputWidgets": {},
     "nuid": "26df9558-871c-4baa-84c1-5e47e693a131",
     "showTitle": false,
     "title": ""
    }
   },
   "source": [
    "#### Q1"
   ]
  },
  {
   "cell_type": "code",
   "execution_count": 0,
   "metadata": {
    "application/vnd.databricks.v1+cell": {
     "cellMetadata": {
      "byteLimit": 2048000,
      "rowLimit": 10000
     },
     "inputWidgets": {},
     "nuid": "c296b730-199b-4dd4-8454-9ffe728995a4",
     "showTitle": false,
     "title": ""
    }
   },
   "outputs": [
    {
     "output_type": "stream",
     "name": "stdout",
     "output_type": "stream",
     "text": [
      "+------------------------+\n|count(DISTINCT corpusid)|\n+------------------------+\n|                  150000|\n+------------------------+\n\n"
     ]
    }
   ],
   "source": [
    "distinct_count_result = spark.sql('select count(distinct(corpusid)) from publication_temp_table')\n",
    "distinct_count_result.show()"
   ]
  },
  {
   "cell_type": "markdown",
   "metadata": {
    "application/vnd.databricks.v1+cell": {
     "cellMetadata": {
      "byteLimit": 2048000,
      "rowLimit": 10000
     },
     "inputWidgets": {},
     "nuid": "aaa8df6f-8640-4850-b525-0f20d3c5d1b9",
     "showTitle": false,
     "title": ""
    }
   },
   "source": [
    "#### Q2"
   ]
  },
  {
   "cell_type": "code",
   "execution_count": 0,
   "metadata": {
    "application/vnd.databricks.v1+cell": {
     "cellMetadata": {
      "byteLimit": 2048000,
      "rowLimit": 10000
     },
     "inputWidgets": {},
     "nuid": "0299c379-9e8a-49df-827d-079aadeb30f3",
     "showTitle": false,
     "title": ""
    }
   },
   "outputs": [
    {
     "output_type": "stream",
     "name": "stdout",
     "output_type": "stream",
     "text": [
      "Out[278]: 2.81628"
     ]
    }
   ],
   "source": [
    "# Calculate the average number of authors per paper\n",
    "authors_per_paper = spark.sql(\"\"\"\n",
    "    SELECT AVG(size(author_name)) AS authors_per_paper\n",
    "    FROM (\n",
    "        SELECT TRANSFORM(authors, x -> x.name) AS author_name\n",
    "        FROM publication_temp_table\n",
    "    )\n",
    "\"\"\").first()[0]\n",
    "\n",
    "\n",
    "authors_per_paper"
   ]
  },
  {
   "cell_type": "markdown",
   "metadata": {
    "application/vnd.databricks.v1+cell": {
     "cellMetadata": {
      "byteLimit": 2048000,
      "rowLimit": 10000
     },
     "inputWidgets": {},
     "nuid": "b77cd66e-9cf6-4ad0-aacf-8be291607624",
     "showTitle": false,
     "title": ""
    }
   },
   "source": [
    "#### Q3"
   ]
  },
  {
   "cell_type": "code",
   "execution_count": 0,
   "metadata": {
    "application/vnd.databricks.v1+cell": {
     "cellMetadata": {
      "byteLimit": 2048000,
      "rowLimit": 10000
     },
     "inputWidgets": {},
     "nuid": "85bb0847-28f2-4ea5-aa7e-d290d2993702",
     "showTitle": false,
     "title": ""
    }
   },
   "outputs": [
    {
     "output_type": "stream",
     "name": "stdout",
     "output_type": "stream",
     "text": [
      "+--------------+\n|distinct_count|\n+--------------+\n|         33916|\n+--------------+\n\n"
     ]
    }
   ],
   "source": [
    "publication_3_sql = spark.sql(\n",
    "    \"\"\"\n",
    "    SELECT COUNT(DISTINCT journal.name) AS distinct_count\n",
    "    FROM publication_temp_table\n",
    "    WHERE journal.name IS NOT NULL AND journal.name != ''\n",
    "    \"\"\"\n",
    ")\n",
    "\n",
    "publication_3_sql.show()"
   ]
  },
  {
   "cell_type": "markdown",
   "metadata": {
    "application/vnd.databricks.v1+cell": {
     "cellMetadata": {
      "byteLimit": 2048000,
      "rowLimit": 10000
     },
     "inputWidgets": {},
     "nuid": "22ea7497-8c10-4255-819c-56e3dfe26b9c",
     "showTitle": false,
     "title": ""
    }
   },
   "source": [
    "#### Q4"
   ]
  },
  {
   "cell_type": "code",
   "execution_count": 0,
   "metadata": {
    "application/vnd.databricks.v1+cell": {
     "cellMetadata": {
      "byteLimit": 2048000,
      "rowLimit": 10000
     },
     "inputWidgets": {},
     "nuid": "ee512266-82a1-4e35-8a9c-791cb4c6df6f",
     "showTitle": false,
     "title": ""
    }
   },
   "outputs": [
    {
     "output_type": "display_data",
     "data": {
      "text/html": [
       "<style scoped>\n",
       "  .table-result-container {\n",
       "    max-height: 300px;\n",
       "    overflow: auto;\n",
       "  }\n",
       "  table, th, td {\n",
       "    border: 1px solid black;\n",
       "    border-collapse: collapse;\n",
       "  }\n",
       "  th, td {\n",
       "    padding: 5px;\n",
       "  }\n",
       "  th {\n",
       "    text-align: left;\n",
       "  }\n",
       "</style><div class='table-result-container'><table class='table-result'><thead style='background-color: white'><tr><th>author</th><th>count</th></tr></thead><tbody><tr><td>List(2149377746, B. Noble)</td><td>23</td></tr><tr><td>List(90537224, S. Sukhoruchkin)</td><td>16</td></tr><tr><td>List(88842366, Z. Soroko)</td><td>16</td></tr><tr><td>List(49898687, M. Kumar)</td><td>15</td></tr><tr><td>List(49611617, M. Jain)</td><td>10</td></tr></tbody></table></div>"
      ]
     },
     "metadata": {
      "application/vnd.databricks.v1+output": {
       "addedWidgets": {},
       "aggData": [],
       "aggError": "",
       "aggOverflow": false,
       "aggSchema": [],
       "aggSeriesLimitReached": false,
       "aggType": "",
       "arguments": {},
       "columnCustomDisplayInfos": {},
       "data": [
        [
         [
          "2149377746",
          "B. Noble"
         ],
         23
        ],
        [
         [
          "90537224",
          "S. Sukhoruchkin"
         ],
         16
        ],
        [
         [
          "88842366",
          "Z. Soroko"
         ],
         16
        ],
        [
         [
          "49898687",
          "M. Kumar"
         ],
         15
        ],
        [
         [
          "49611617",
          "M. Jain"
         ],
         10
        ]
       ],
       "datasetInfos": [],
       "dbfsResultPath": null,
       "isJsonSchema": true,
       "metadata": {},
       "overflow": false,
       "plotOptions": {
        "customPlotOptions": {},
        "displayType": "table",
        "pivotAggregation": null,
        "pivotColumns": null,
        "xColumns": null,
        "yColumns": null
       },
       "removedWidgets": [],
       "schema": [
        {
         "metadata": "{}",
         "name": "author",
         "type": "{\"type\":\"struct\",\"fields\":[{\"name\":\"authorId\",\"type\":\"string\",\"nullable\":true,\"metadata\":{}},{\"name\":\"name\",\"type\":\"string\",\"nullable\":true,\"metadata\":{}}]}"
        },
        {
         "metadata": "{}",
         "name": "count",
         "type": "\"long\""
        }
       ],
       "type": "table"
      }
     },
     "output_type": "display_data"
    }
   ],
   "source": [
    "top_authors_sql = spark.sql(\"\"\"\n",
    "    SELECT\n",
    "        author,\n",
    "        COUNT(*) AS count\n",
    "    FROM (\n",
    "        SELECT\n",
    "            EXPLODE(authors) AS author\n",
    "        FROM\n",
    "            publication_temp_table\n",
    "    ) \n",
    "    GROUP BY\n",
    "        author\n",
    "    ORDER BY\n",
    "        count DESC\n",
    "    LIMIT 5\n",
    "\"\"\")\n",
    "\n",
    "top_authors_sql.display()"
   ]
  },
  {
   "cell_type": "markdown",
   "metadata": {
    "application/vnd.databricks.v1+cell": {
     "cellMetadata": {
      "byteLimit": 2048000,
      "rowLimit": 10000
     },
     "inputWidgets": {},
     "nuid": "721aa698-7083-40c3-8c22-ded77ba50b4e",
     "showTitle": false,
     "title": ""
    }
   },
   "source": [
    "#### Q5"
   ]
  },
  {
   "cell_type": "code",
   "execution_count": 0,
   "metadata": {
    "application/vnd.databricks.v1+cell": {
     "cellMetadata": {
      "byteLimit": 2048000,
      "implicitDf": true,
      "rowLimit": 10000
     },
     "inputWidgets": {},
     "nuid": "eb73f032-33d9-47ac-bdb2-0dde35514435",
     "showTitle": false,
     "title": ""
    }
   },
   "outputs": [
    {
     "output_type": "stream",
     "name": "stdout",
     "output_type": "stream",
     "text": [
      "+--------------------+-----------------+\n|             authors|          sum(IF)|\n+--------------------+-----------------+\n|{2155504929, Ying...|93.83199691772461|\n|{144797099, M. Vi...|92.23799896240234|\n|{5152451, L. Andr...|92.23799896240234|\n| {49900836, H. Wood}| 90.4219970703125|\n|{7695437, A. M. R...| 87.8989987373352|\n+--------------------+-----------------+\nonly showing top 5 rows\n\n"
     ]
    }
   ],
   "source": [
    "result_q5_sql = spark.sql(\n",
    "    \"\"\"\n",
    "SELECT PB.authors,sum(JL.IF)\n",
    "FROM(\n",
    "    SELECT\n",
    "        journal.name AS Journal_Name,\n",
    "        explode(authors) as authors \n",
    "    FROM \n",
    "        publication_temp_table\n",
    "        ) AS PB\n",
    " \n",
    "JOIN journal_processed_temp_table as JL\n",
    "ON PB.Journal_Name == JL.Journal_Name\n",
    "GROUP BY authors \n",
    "ORDER BY sum(IF) DESC \n",
    "\"\"\"\n",
    ")\n",
    "\n",
    "# Show the result\n",
    "result_q5_sql.show(5)"
   ]
  },
  {
   "cell_type": "markdown",
   "metadata": {
    "application/vnd.databricks.v1+cell": {
     "cellMetadata": {
      "byteLimit": 2048000,
      "rowLimit": 10000
     },
     "inputWidgets": {},
     "nuid": "f658b537-237f-4c96-aae0-3e273db3f0b8",
     "showTitle": false,
     "title": ""
    }
   },
   "source": [
    "#### Q6"
   ]
  },
  {
   "cell_type": "code",
   "execution_count": 0,
   "metadata": {
    "application/vnd.databricks.v1+cell": {
     "cellMetadata": {
      "byteLimit": 2048000,
      "rowLimit": 10000
     },
     "inputWidgets": {},
     "nuid": "f558bf70-10e6-49b9-8b4a-7fd0af4988be",
     "showTitle": false,
     "title": ""
    }
   },
   "outputs": [
    {
     "output_type": "stream",
     "name": "stdout",
     "output_type": "stream",
     "text": [
      "+----+-----------------+\n|year|publication_count|\n+----+-----------------+\n|2010|              112|\n|2011|              139|\n|2012|              165|\n|2013|              178|\n|2014|              241|\n|2015|              243|\n|2016|              283|\n|2017|              329|\n|2018|              365|\n|2019|              396|\n|2020|              444|\n+----+-----------------+\n\n"
     ]
    }
   ],
   "source": [
    "resut_q6_sql = spark.sql(\"\"\"\n",
    "SELECT year, COUNT(corpusid) AS publication_count\n",
    "FROM (\n",
    "    SELECT p.corpusid, p.year, j.IF\n",
    "    FROM publication_temp_table p\n",
    "    JOIN journal_processed_temp_table j \n",
    "    ON p.journal.name == j.Journal_Name\n",
    "    WHERE j.IF > 1 AND p.year BETWEEN 2010 AND 2020\n",
    ") AS joined_data\n",
    "GROUP BY year\n",
    "ORDER BY year\n",
    "\"\"\")\n",
    "\n",
    "resut_q6_sql.show()"
   ]
  }
 ],
 "metadata": {
  "application/vnd.databricks.v1+notebook": {
   "dashboards": [],
   "environmentMetadata": null,
   "language": "python",
   "notebookMetadata": {
    "mostRecentlyExecutedCommandWithImplicitDF": {
     "commandId": 1124845708494622,
     "dataframes": [
      "_sqldf"
     ]
    },
    "pythonIndentUnit": 4
   },
   "notebookName": "Big Data Analytics Coursework Code",
   "widgets": {}
  }
 },
 "nbformat": 4,
 "nbformat_minor": 0
}
